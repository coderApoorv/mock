{
 "cells": [
  {
   "cell_type": "markdown",
   "id": "2f5cd7b4-019d-4572-b962-e94ce23aa00f",
   "metadata": {},
   "source": [
    "17. Write a function that takes a list of numbers as input and returns a new list containing only the even numbers from the input list. Use list comprehension to solve this problem.\n",
    "\n",
    "Example:\n",
    "\n",
    "Input: [1, 2, 3, 4, 5, 6, 7, 8, 9, 10]\n",
    "\n",
    "Output: [2, 4, 6, 8, 10]"
   ]
  },
  {
   "cell_type": "code",
   "execution_count": 7,
   "id": "6312127e-9fc2-4c4e-874c-4dd4a82a3bfe",
   "metadata": {},
   "outputs": [
    {
     "data": {
      "text/plain": [
       "[2, 4, 6, 8, 10]"
      ]
     },
     "execution_count": 7,
     "metadata": {},
     "output_type": "execute_result"
    }
   ],
   "source": [
    "l = [1,2,3,4,5,6,7,8,9,10]\n",
    "s = [x for x in l if x%2==0]\n",
    "s"
   ]
  },
  {
   "cell_type": "markdown",
   "id": "d19876c3-91e5-4022-ac7c-048c5f0012fb",
   "metadata": {},
   "source": [
    "18. Implement a decorator function called ‘timer’ that measures the execution time of a function. The ‘timer’ decorator should print the time taken by the decorated function to execute. Use the ‘time’ module in Python to calculate the execution time.\n",
    "\n",
    "Example:\n",
    "\n",
    "import time\n",
    "\n",
    "@timer\n",
    "def my_function():\n",
    "    # Function code goes here\n",
    "    time.sleep(2)\n",
    "\n",
    "my_function()\n",
    "\n",
    "Output:\n",
    "\"Execution time: 2.00123 seconds\""
   ]
  },
  {
   "cell_type": "code",
   "execution_count": 9,
   "id": "43055717-7656-40cb-842b-c1db49bf188c",
   "metadata": {},
   "outputs": [
    {
     "name": "stdout",
     "output_type": "stream",
     "text": [
      "Execution time: 2.00208 seconds\n"
     ]
    }
   ],
   "source": [
    "import time\n",
    "\n",
    "def timer(func):\n",
    "    def inner_timer():\n",
    "        start_time = time.time()\n",
    "        result = func()\n",
    "        end_time = time.time()\n",
    "        execution_time = end_time - start_time\n",
    "        print(f\"Execution time: {execution_time:.5f} seconds\")\n",
    "        return result\n",
    "    return inner_timer\n",
    "\n",
    "@timer\n",
    "def my_function():\n",
    "    time.sleep(2)\n",
    "\n",
    "my_function()\n"
   ]
  },
  {
   "cell_type": "markdown",
   "id": "e06edcf7-6d42-4feb-8247-4c174379b6f7",
   "metadata": {},
   "source": [
    "19. Write a function called ‘calculate_mean’ that takes a list of numbers as input and returns the mean (average) of the numbers. The function should calculate the mean using the sum of the numbers divided by the total count.\n",
    "\n",
    "Example:\n",
    "\n",
    "def calculate_mean(numbers):\n",
    "    total = sum(numbers)\n",
    "    count = len(numbers)\n",
    "    mean = total / count\n",
    "    return mean\n",
    "\n",
    "data = [10, 15, 20, 25, 30]\n",
    "mean_value = calculate_mean(data)\n",
    "print(\"Mean:\", mean_value)\n",
    "\n",
    "Output:\n",
    "Mean: 20.0"
   ]
  },
  {
   "cell_type": "code",
   "execution_count": 11,
   "id": "6ad03f13-79b3-45ed-b6d1-caa152f09449",
   "metadata": {},
   "outputs": [
    {
     "data": {
      "text/plain": [
       "20.0"
      ]
     },
     "execution_count": 11,
     "metadata": {},
     "output_type": "execute_result"
    }
   ],
   "source": [
    "def calculate_mean(l : list[int])->float:\n",
    "    return sum(l)/len(l)\n",
    "\n",
    "data = [10,15,20,25,30]\n",
    "calculate_mean(data)\n",
    "    \n",
    "    "
   ]
  },
  {
   "cell_type": "markdown",
   "id": "3160cf39-9c89-4c63-a902-c2368f9d7a82",
   "metadata": {},
   "source": [
    "20. Write a function called ‘perform_hypothesis_test’ that takes two lists of numbers as input, representing two samples. The function should perform a two-sample t-test and return the p-value. Use the ‘scipy.stats’ module in Python to calculate the t-test and p-value.\n",
    "\n",
    "Example:\n",
    "\n",
    "from scipy import stats\n",
    "\n",
    "def perform_hypothesis_test(sample1, sample2):\n",
    "    t_statistic, p_value = stats.ttest_ind(sample1, sample2)\n",
    "    return p_value\n",
    "\n",
    "sample1 = [5, 10, 15, 20, 25]\n",
    "sample2 = [10, 20, 30, 40, 50]\n",
    "p_value = perform_hypothesis_test(sample1, sample2)\n",
    "print(\"P-value:\", p_value)\n",
    "\n",
    "Output:\n",
    "P-value: 0.1064706396450037"
   ]
  },
  {
   "cell_type": "code",
   "execution_count": 12,
   "id": "9b658f58-128b-4b09-b7b1-08c404954660",
   "metadata": {},
   "outputs": [
    {
     "name": "stdout",
     "output_type": "stream",
     "text": [
      "P-value: 0.09434977284243756\n"
     ]
    }
   ],
   "source": [
    "from scipy import stats\n",
    "\n",
    "def perform_hypothesis_test(sample1, sample2):\n",
    "    t_statistic, p_value = stats.ttest_ind(sample1, sample2)\n",
    "    return p_value\n",
    "\n",
    "sample1 = [5, 10, 15, 20, 25]\n",
    "sample2 = [10, 20, 30, 40, 50]\n",
    "p_value = perform_hypothesis_test(sample1, sample2)\n",
    "print(\"P-value:\", p_value)\n"
   ]
  },
  {
   "cell_type": "code",
   "execution_count": null,
   "id": "2ba06e3d-a348-475e-a842-626b72ebeb95",
   "metadata": {},
   "outputs": [],
   "source": []
  }
 ],
 "metadata": {
  "kernelspec": {
   "display_name": "Python 3 (ipykernel)",
   "language": "python",
   "name": "python3"
  },
  "language_info": {
   "codemirror_mode": {
    "name": "ipython",
    "version": 3
   },
   "file_extension": ".py",
   "mimetype": "text/x-python",
   "name": "python",
   "nbconvert_exporter": "python",
   "pygments_lexer": "ipython3",
   "version": "3.10.8"
  }
 },
 "nbformat": 4,
 "nbformat_minor": 5
}
