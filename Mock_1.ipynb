{
 "cells": [
  {
   "cell_type": "markdown",
   "id": "9ed2000b-5a07-4c0d-9328-d4797ad67af3",
   "metadata": {},
   "source": [
    "Move Zeroes\n",
    "Given an integer array nums, move all 0's to the end of it while maintaining the relative order of the non-zero elements.\n",
    "\n",
    "Note that you must do this in-place without making a copy of the array.\n",
    "\n",
    "Example 1:\n",
    "Input: nums = [0,1,0,3,12]\n",
    "Output: [1,3,12,0,0]\n",
    "\n",
    "Example 2:\n",
    "Input: nums = [0]\n",
    "Output: [0]\n",
    "\n",
    "Constraints:\n",
    "a. 1 <= nums.length <= 10^4\n",
    "b. -2^31 <= nums[i] <= 2^31 - 1"
   ]
  },
  {
   "cell_type": "code",
   "execution_count": 1,
   "id": "d34e17e1-124e-4f91-b96d-26a4145df1d6",
   "metadata": {},
   "outputs": [],
   "source": [
    "def array_zero(arr : list[int]) -> list[int]:\n",
    "    for i in range(len(arr)-1):\n",
    "        if arr[i] == 0:\n",
    "            arr.pop(i)\n",
    "            arr.append(0)\n",
    "    return arr "
   ]
  },
  {
   "cell_type": "code",
   "execution_count": 2,
   "id": "c64b27fc-7a82-429e-b0f2-9e77ca1a56e3",
   "metadata": {},
   "outputs": [
    {
     "data": {
      "text/plain": [
       "[1, 3, 12, 0, 0]"
      ]
     },
     "execution_count": 2,
     "metadata": {},
     "output_type": "execute_result"
    }
   ],
   "source": [
    "nums = [0,1,0,3,12]\n",
    "array_zero(nums)"
   ]
  },
  {
   "cell_type": "markdown",
   "id": "de38cbe8-9afb-40ef-bcd7-28e1e098a9a1",
   "metadata": {},
   "source": [
    "First Unique Character in a String\n",
    "\n",
    "Given a string s, find the first non-repeating character in it and return its index. If it does not exist, return -1.\n",
    "\n",
    "Example 1:\n",
    "Input: s = \"leetcode\"\n",
    "Output: 0\n",
    "\n",
    "Example 2:\n",
    "Input: s = \"loveleetcode\"\n",
    "Output: 2\n",
    "\n",
    "Example 3:\n",
    "Input: s = \"aabb\"\n",
    "Output: -1\n",
    "\n",
    "Constraints:\n",
    "a. 1 <= s.length <= 10^5\n",
    "b. s consists of only lowercase English letters."
   ]
  },
  {
   "cell_type": "code",
   "execution_count": 15,
   "id": "72c5f1ba-bf5b-4845-b3ff-034200ee372f",
   "metadata": {},
   "outputs": [],
   "source": [
    "def unique_char(s : str)->int:\n",
    "    \n",
    "    s = s.lower()\n",
    "    for i in range(len(s)):\n",
    "        if s[i] in s[i+1:]:\n",
    "            continue\n",
    "        if s[i] in s[0:i]:\n",
    "            continue\n",
    "        else:\n",
    "            return i\n",
    "    return -1    "
   ]
  },
  {
   "cell_type": "code",
   "execution_count": 16,
   "id": "80e53727-db4b-4be6-b466-40905c6e9ab8",
   "metadata": {},
   "outputs": [
    {
     "data": {
      "text/plain": [
       "2"
      ]
     },
     "execution_count": 16,
     "metadata": {},
     "output_type": "execute_result"
    }
   ],
   "source": [
    "s = \"loveleetcode\"\n",
    "unique_char(s)"
   ]
  },
  {
   "cell_type": "code",
   "execution_count": null,
   "id": "488b0fef-9827-4a53-9a94-4a1a8d7fcaf5",
   "metadata": {},
   "outputs": [],
   "source": []
  }
 ],
 "metadata": {
  "kernelspec": {
   "display_name": "Python 3 (ipykernel)",
   "language": "python",
   "name": "python3"
  },
  "language_info": {
   "codemirror_mode": {
    "name": "ipython",
    "version": 3
   },
   "file_extension": ".py",
   "mimetype": "text/x-python",
   "name": "python",
   "nbconvert_exporter": "python",
   "pygments_lexer": "ipython3",
   "version": "3.10.8"
  }
 },
 "nbformat": 4,
 "nbformat_minor": 5
}
